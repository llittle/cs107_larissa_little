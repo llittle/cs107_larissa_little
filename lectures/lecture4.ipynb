{
 "cells": [
  {
   "cell_type": "markdown",
   "metadata": {
    "slideshow": {
     "slide_type": "subslide"
    }
   },
   "source": [
    "# Lecture 4:  September 17, 2020\n",
    "\n",
    "* Git basics\n",
    "* Remotes\n",
    "* Branches"
   ]
  },
  {
   "cell_type": "code",
   "execution_count": null,
   "metadata": {
    "scrolled": true,
    "slideshow": {
     "slide_type": "subslide"
    }
   },
   "outputs": [],
   "source": [
    "%%bash\n",
    "cd /tmp\n",
    "rm -rf playground # remove if it exists\n",
    "git clone https://github.com/dsondak/playground.git"
   ]
  },
  {
   "cell_type": "code",
   "execution_count": null,
   "metadata": {
    "scrolled": true,
    "slideshow": {
     "slide_type": "subslide"
    }
   },
   "outputs": [],
   "source": [
    "%%bash\n",
    "ls -a /tmp/playground"
   ]
  },
  {
   "cell_type": "markdown",
   "metadata": {
    "slideshow": {
     "slide_type": "subslide"
    }
   },
   "source": [
    "### Poking around"
   ]
  },
  {
   "cell_type": "markdown",
   "metadata": {
    "slideshow": {
     "slide_type": "fragment"
    }
   },
   "source": [
    "We have a nice smelling fresh repository.  We'll explore the repo from the `Git` point of view using `Git` commands."
   ]
  },
  {
   "cell_type": "markdown",
   "metadata": {
    "slideshow": {
     "slide_type": "subslide"
    }
   },
   "source": [
    "### `log`\n",
    "\n",
    "Log tells you all the changes that have occured in this project as of now."
   ]
  },
  {
   "cell_type": "code",
   "execution_count": null,
   "metadata": {
    "scrolled": true,
    "slideshow": {
     "slide_type": "fragment"
    }
   },
   "outputs": [],
   "source": [
    "%%bash\n",
    "cd /tmp/playground\n",
    "git log"
   ]
  },
  {
   "cell_type": "markdown",
   "metadata": {
    "slideshow": {
     "slide_type": "subslide"
    }
   },
   "source": [
    "![commit hash](figs/commit_hash.png)\n",
    "Each one of these \"commits\" is an SHA hash.\n",
    "\n",
    "It uniquely identifies all actions that have happened to this repository previously.\n",
    "\n",
    "The long string of hex digits next to `commit` is the long hash and identifies the unique commit.\n",
    "\n",
    "There is some interesting history here:  [How much of a git sha is *generally* considered necessary to uniquely identify a change in a given codebase?](https://stackoverflow.com/questions/18134627/how-much-of-a-git-sha-is-generally-considered-necessary-to-uniquely-identify-a)"
   ]
  },
  {
   "cell_type": "markdown",
   "metadata": {
    "slideshow": {
     "slide_type": "subslide"
    }
   },
   "source": [
    "#### Getting help with commands"
   ]
  },
  {
   "cell_type": "markdown",
   "metadata": {
    "slideshow": {
     "slide_type": "fragment"
    }
   },
   "source": [
    "If you ever need help on a command, you can find the `git man` pages by hyphenating `git` and the command name.  \n",
    "Try it!"
   ]
  },
  {
   "cell_type": "markdown",
   "metadata": {
    "slideshow": {
     "slide_type": "fragment"
    }
   },
   "source": [
    "```bash\n",
    "man git-log\n",
    "```"
   ]
  },
  {
   "cell_type": "markdown",
   "metadata": {
    "slideshow": {
     "slide_type": "fragment"
    }
   },
   "source": [
    "Press the spacebar to scoll down and `q` to quit."
   ]
  },
  {
   "cell_type": "markdown",
   "metadata": {
    "slideshow": {
     "slide_type": "subslide"
    }
   },
   "source": [
    "----\n",
    "### `status`\n",
    "\n",
    "![git_status](figs/git_status.png)"
   ]
  },
  {
   "cell_type": "markdown",
   "metadata": {
    "slideshow": {
     "slide_type": "subslide"
    }
   },
   "source": [
    "Status is your window into the current state of your project.\n",
    "\n",
    "It can tell you which files you have changed and which files you currently have in your staging area.\n",
    "\n",
    "You should use `git status` every other command in `git`!\n",
    "\n",
    "This is especially true in the beginning when you're just learning to understand how things work.  (Eventually you can probably relax on this.)"
   ]
  },
  {
   "cell_type": "code",
   "execution_count": null,
   "metadata": {
    "slideshow": {
     "slide_type": "subslide"
    }
   },
   "outputs": [],
   "source": [
    "%%bash\n",
    "cd /tmp/playground\n",
    "git status"
   ]
  },
  {
   "cell_type": "markdown",
   "metadata": {
    "slideshow": {
     "slide_type": "fragment"
    }
   },
   "source": [
    "**Pay close attention to that text!**\n",
    "\n",
    "It says we are on the `master` branch of our **local repository**, and that this branch is up-to-date with the `master` branch of the **upstream  repository** (or **remote**) named **origin**.\n",
    "\n",
    "We know this because `clone` brings down a copy of the remote branch: `origin/master`.  "
   ]
  },
  {
   "cell_type": "markdown",
   "metadata": {
    "slideshow": {
     "slide_type": "subslide"
    }
   },
   "source": [
    "`origin/master`represents the local copy of the branch that came from the upstream repository (nicknamed `origin` in this case). \n",
    "\n",
    "**Branches** are different, co-existing versions of your project."
   ]
  },
  {
   "cell_type": "markdown",
   "metadata": {
    "slideshow": {
     "slide_type": "fragment"
    }
   },
   "source": [
    "Here we have encountered two of them, but remember there is a third one in the repository we forked from, and perhaps many more, depending on who else made these forks."
   ]
  },
  {
   "cell_type": "markdown",
   "metadata": {
    "slideshow": {
     "slide_type": "fragment"
    }
   },
   "source": [
    "Branches represent a snapshot of the project by someone at some particular point in time. In general you will only care about your own branches and those of the \"parent\" remotes you forked/cloned from. We'll have **much** more to say about branches later."
   ]
  },
  {
   "cell_type": "markdown",
   "metadata": {
    "slideshow": {
     "slide_type": "subslide"
    }
   },
   "source": [
    "Configuration information is stored in a special file called `config`, in a hidden folder called `.git` in your working directory. (The index and the local repository are stored there as well...more on that in  a bit.)\n",
    "\n",
    "**Reminder:** _Hidden_ files and directories are preceded by a dot.  The only way to see them is to type `ls -a` where the `a` option tells the `ls` command to list hidden files and directories."
   ]
  },
  {
   "cell_type": "markdown",
   "metadata": {
    "slideshow": {
     "slide_type": "subslide"
    }
   },
   "source": [
    "## A few special files and directories"
   ]
  },
  {
   "cell_type": "markdown",
   "metadata": {
    "slideshow": {
     "slide_type": "subslide"
    }
   },
   "source": [
    "### `config`"
   ]
  },
  {
   "cell_type": "code",
   "execution_count": null,
   "metadata": {
    "slideshow": {
     "slide_type": "fragment"
    }
   },
   "outputs": [],
   "source": [
    "%%bash\n",
    "cd /tmp/playground\n",
    "cat .git/config"
   ]
  },
  {
   "cell_type": "markdown",
   "metadata": {
    "slideshow": {
     "slide_type": "fragment"
    }
   },
   "source": [
    "Notice that this file tells us about a remote called `origin` which is simply the Github repository we cloned from. So the process of cloning left us with a remote. The file also tells us about a branch called `master`, which \"tracks\" a remote branch called `master` at `origin`. "
   ]
  },
  {
   "cell_type": "markdown",
   "metadata": {
    "slideshow": {
     "slide_type": "subslide"
    }
   },
   "source": [
    "### `.gitignore`"
   ]
  },
  {
   "cell_type": "markdown",
   "metadata": {
    "slideshow": {
     "slide_type": "fragment"
    }
   },
   "source": [
    "`.gitignore` tells us what files to ignore when adding files to the index and comitting to the local repository.\n",
    "\n",
    "We use this file to ignore temporary data files and such when working in our repository."
   ]
  },
  {
   "cell_type": "markdown",
   "metadata": {
    "slideshow": {
     "slide_type": "subslide"
    }
   },
   "source": [
    "### Some `.gitignore` anatomy\n",
    "Folders are indicated with a `/` at the end, in which case all files in that folder are ignored.\n",
    "\n",
    "One of the lines in the `.gitignore` file is `*.so`.  That line tells `Git` to ignore all files with the extension `.so`."
   ]
  },
  {
   "cell_type": "markdown",
   "metadata": {
    "slideshow": {
     "slide_type": "subslide"
    }
   },
   "source": [
    "### Some comments on `.gitignore`"
   ]
  },
  {
   "cell_type": "markdown",
   "metadata": {
    "slideshow": {
     "slide_type": "fragment"
    }
   },
   "source": [
    "A `.gitignore` file can be specialized to a specific language. The one below is specialized to the `Python` language. "
   ]
  },
  {
   "cell_type": "markdown",
   "metadata": {
    "slideshow": {
     "slide_type": "fragment"
    }
   },
   "source": [
    "Note that when creating a GitHub repo, you are asked if you want to create a `.gitignore` file.  You don't have to create one, but it's a good idea.  Of course, you can always add one later if you so desire."
   ]
  },
  {
   "cell_type": "code",
   "execution_count": null,
   "metadata": {
    "scrolled": true,
    "slideshow": {
     "slide_type": "subslide"
    }
   },
   "outputs": [],
   "source": [
    "%%bash\n",
    "cd /tmp/playground\n",
    "cat .gitignore"
   ]
  },
  {
   "cell_type": "markdown",
   "metadata": {
    "slideshow": {
     "slide_type": "subslide"
    }
   },
   "source": [
    "### Making changes"
   ]
  },
  {
   "cell_type": "markdown",
   "metadata": {
    "slideshow": {
     "slide_type": "fragment"
    }
   },
   "source": [
    "Ok! Enough poking around. Let's get down to business and add some files into our folder.\n",
    "\n",
    "Now let's say that we want to add a new file to the project. The canonical sequence is \"edit&ndash;add&ndash;commit&ndash;push\"."
   ]
  },
  {
   "cell_type": "code",
   "execution_count": null,
   "metadata": {
    "slideshow": {
     "slide_type": "subslide"
    }
   },
   "outputs": [],
   "source": [
    "%%bash\n",
    "cd /tmp/playground\n",
    "echo 'Pre-class demo' >> README.md\n",
    "git status"
   ]
  },
  {
   "cell_type": "markdown",
   "metadata": {
    "slideshow": {
     "slide_type": "subslide"
    }
   },
   "source": [
    "We've modified a file in the working directory, but it hasn't been staged yet. Make sure you read and understand the output."
   ]
  },
  {
   "cell_type": "markdown",
   "metadata": {
    "slideshow": {
     "slide_type": "subslide"
    }
   },
   "source": [
    "* Your local `master` branch does not contain anything that is not on the remote `master` branch.  So `git` says:  Your branch is up to date with `origin/master`."
   ]
  },
  {
   "cell_type": "markdown",
   "metadata": {
    "slideshow": {
     "slide_type": "fragment"
    }
   },
   "source": [
    "* You have some untracked files in your local directory that `git` is not keeping track of. `Git` senses this and informs you of this fact and goes one more step to inform you of what those untracked files are. Sometimes you want to stage these files and sometimes you don't. The decision is yours.\n",
    "\n",
    "* If you modified a file that Git is already tracking, then Git tells you that the file is modified but the new changes aren't tracked yet."
   ]
  },
  {
   "cell_type": "markdown",
   "metadata": {
    "slideshow": {
     "slide_type": "fragment"
    }
   },
   "source": [
    "* `Git` also tells you that there is nothing to commit but that there are some untracked files and maybe you want to start tracking them."
   ]
  },
  {
   "cell_type": "markdown",
   "metadata": {
    "slideshow": {
     "slide_type": "subslide"
    }
   },
   "source": [
    "----\n",
    "### `add`\n",
    "\n",
    "![git_add](figs/git_add.png)"
   ]
  },
  {
   "cell_type": "markdown",
   "metadata": {
    "slideshow": {
     "slide_type": "subslide"
    }
   },
   "source": [
    "* When you've made a change to a set of files and are ready to create a commit, the first step is to add all of the changed files to the staging area. That is what `add` is for."
   ]
  },
  {
   "cell_type": "markdown",
   "metadata": {
    "slideshow": {
     "slide_type": "fragment"
    }
   },
   "source": [
    "* Remember that what you see in the filesystem is your working directory, so the way to see what's in the staging area is with the `status` command."
   ]
  },
  {
   "cell_type": "markdown",
   "metadata": {
    "slideshow": {
     "slide_type": "fragment"
    }
   },
   "source": [
    "* This also means that **if you add something to the staging area and then edit it again, you'll need to add the file to the staging area again if you want to remember the new changes**.\n",
    "    - See the Staging Modified Files section at [Git - Recording Changes to the Repository](https://git-scm.com/book/id/v2/Git-Basics-Recording-Changes-to-the-Repository)."
   ]
  },
  {
   "cell_type": "code",
   "execution_count": null,
   "metadata": {
    "scrolled": true,
    "slideshow": {
     "slide_type": "subslide"
    }
   },
   "outputs": [],
   "source": [
    "%%bash\n",
    "cd /tmp/playground\n",
    "git add README.md\n",
    "git status"
   ]
  },
  {
   "cell_type": "markdown",
   "metadata": {
    "slideshow": {
     "slide_type": "subslide"
    }
   },
   "source": [
    "Now our file is in the staging area (index) waiting to be committed.  The file is still not even in our local repository."
   ]
  },
  {
   "cell_type": "markdown",
   "metadata": {
    "slideshow": {
     "slide_type": "fragment"
    }
   },
   "source": [
    "\n",
    "#### WARNING: Do NOT use `git add .`\n",
    "Instead of doing `git add world.md` you could use `git add .` in the top level of the repository. This adds all new files and changed files to the index, and is particularly useful if you have created multiple new files.  You should be careful with this because it's a very annoying if you decide that you didn't want to add a file. I usually avoid this if I can, but sometimes it's the way to go. **Note:  The `git add .` sequence is far over-used and can cause collaboration problems. Please refrain from using it, especially if you're new to `git`.**"
   ]
  },
  {
   "cell_type": "markdown",
   "metadata": {
    "slideshow": {
     "slide_type": "subslide"
    }
   },
   "source": [
    "----\n",
    "### `commit`\n",
    "\n",
    "![git_commit](figs/git_commit.png)\n",
    "\n",
    "When you're satisfied with the changes you've added to your staging area, you can commit those changes to your local repository with the `commit` command. Those changes will have a permanent record in the repository from now on."
   ]
  },
  {
   "cell_type": "markdown",
   "metadata": {
    "slideshow": {
     "slide_type": "subslide"
    }
   },
   "source": [
    "Every commit has two features you should be aware of:\n",
    "1. The first is a hash. This is a unique identifier for all of the information about that commit, including the code changes, the timestamp, and the author.  We saw this already when we used `git log` earlier. \n",
    "2. The second is a commit message. This is text that you can (and should) add to a commit to describe what the changes were."
   ]
  },
  {
   "cell_type": "markdown",
   "metadata": {
    "slideshow": {
     "slide_type": "subslide"
    }
   },
   "source": [
    "**Good commit messages are important!**\n",
    "\n",
    "Commit messages are a way of quickly telling your future self and your collaborators what a commit was about. For even a moderately sized project, digging through tens or hundreds of commits to find the change you're looking for is a nightmare without friendly summaries."
   ]
  },
  {
   "cell_type": "markdown",
   "metadata": {
    "slideshow": {
     "slide_type": "subslide"
    }
   },
   "source": [
    "By convention, commit messages start with a single-line summary, then an empty line, then a more comprehensive description of the changes.\n",
    "\n",
    "[This](https://github.com/rdadolf/clangtool/commit/bdd8f1290146c28a4cb05b62ccb0ffbaaa314ff7) is an okay commit message. The changes are small, and the summary is sufficient to describe what happened.\n",
    "\n",
    "[This](https://github.com/rdadolf/protos/commit/9fcbe1084b17027e003c62043d764ed5551ddadc) is better. The summary captures the important information (major shift, direct vs. helper), and the full commit message describes what the high-level changes were.\n",
    "\n",
    "[This](https://github.com/rdadolf/autopaxos/commit/d43dd9b0a699c98bd142ba7cbc1836fbc4eba2ac). Don't do this."
   ]
  },
  {
   "cell_type": "code",
   "execution_count": null,
   "metadata": {
    "slideshow": {
     "slide_type": "subslide"
    }
   },
   "outputs": [],
   "source": [
    "%%bash\n",
    "cd /tmp/playground\n",
    "git commit -m \"Modifying README for class.\""
   ]
  },
  {
   "cell_type": "code",
   "execution_count": null,
   "metadata": {
    "slideshow": {
     "slide_type": "subslide"
    }
   },
   "outputs": [],
   "source": [
    "%%bash\n",
    "cd /tmp/playground\n",
    "git status"
   ]
  },
  {
   "cell_type": "markdown",
   "metadata": {
    "slideshow": {
     "slide_type": "subslide"
    }
   },
   "source": [
    "The `git commit -m` version is just a way to specify a commit message without opening a text editor.  If you use a text editor you just say `git commit`."
   ]
  },
  {
   "cell_type": "markdown",
   "metadata": {
    "slideshow": {
     "slide_type": "subslide"
    }
   },
   "source": [
    "Another nice command is to use `git commit` with the `-a` option:  `git commit -a`.  Note that `git commit -a` is shorthand to _stage_ and _commit_ a file which is **already** tracked all at once. It will not stage a file that is not yet tracked!"
   ]
  },
  {
   "cell_type": "code",
   "execution_count": null,
   "metadata": {
    "slideshow": {
     "slide_type": "subslide"
    }
   },
   "outputs": [],
   "source": [
    "%%bash\n",
    "cd /tmp/playground\n",
    "git branch -av"
   ]
  },
  {
   "cell_type": "markdown",
   "metadata": {
    "slideshow": {
     "slide_type": "fragment"
    }
   },
   "source": [
    "We see that our branch, `master`, has one more commit than the `origin/master` branch, the local copy of the branch that came from the upstream repository (nicknamed `origin` in this case). Let's push the changes."
   ]
  },
  {
   "cell_type": "markdown",
   "metadata": {
    "slideshow": {
     "slide_type": "subslide"
    }
   },
   "source": [
    "### `push`\n",
    "\n",
    "![git_push](figs/git_push.png)"
   ]
  },
  {
   "cell_type": "markdown",
   "metadata": {
    "slideshow": {
     "slide_type": "subslide"
    }
   },
   "source": [
    "The `push` command takes the changes you have made to your local repository and attempts to update a remote repository with them. If you're the only person working with both of these (which is how a solo GitHub project would work), then push should always succeed."
   ]
  },
  {
   "cell_type": "code",
   "execution_count": null,
   "metadata": {
    "slideshow": {
     "slide_type": "subslide"
    }
   },
   "outputs": [],
   "source": [
    "%%bash\n",
    "cd /tmp/playground\n",
    "git push\n",
    "git status"
   ]
  },
  {
   "cell_type": "markdown",
   "metadata": {
    "slideshow": {
     "slide_type": "fragment"
    }
   },
   "source": [
    "You can go to your remote repo and see the changes!"
   ]
  },
  {
   "cell_type": "markdown",
   "metadata": {
    "slideshow": {
     "slide_type": "subslide"
    }
   },
   "source": [
    "### Note to Mac Users\n",
    "At this point, please add the `.DS_Store` file into your `.gitignore` file.  You shouldn't version this annoying file.  Here's what it does:  [`.DS_Store`](https://en.wikipedia.org/wiki/.DS_Store).\n",
    "\n",
    "Then, do a `git rm .DS_Store` in each directory that contains `.DS_Store`.  Note:  You should try to use your new-found Unix skills to execute a single Unix command line to recursively remove all `.DS_Store` files!\n",
    "\n",
    "Please do this both for your `playground` and course repos.  Be sure to commit and push!"
   ]
  },
  {
   "cell_type": "markdown",
   "metadata": {
    "slideshow": {
     "slide_type": "subslide"
    }
   },
   "source": [
    "## Breakout Room\n",
    "\n",
    "* Figure out whose birthday is closest to a holiday.\n",
    "* Modify (or create) your `.gitignore` file.\n",
    "* Add at least one file or directory to the `.gitignore` that you would like to ignore. You should discuss this with your group.\n",
    "* Make sure you push these changes to your remote repo!"
   ]
  },
  {
   "cell_type": "markdown",
   "metadata": {
    "slideshow": {
     "slide_type": "slide"
    }
   },
   "source": [
    "## Remotes and `fetch`ing from them"
   ]
  },
  {
   "cell_type": "markdown",
   "metadata": {
    "slideshow": {
     "slide_type": "subslide"
    }
   },
   "source": [
    "If you're working with other people, then it's possible that they have made changes to the remote repository between the time you first cloned it and now. **`push` may fail!** \n",
    "\n",
    "In our particular case of the `playground` repository, this is not going to happen, since you just cloned it and presumably haven't invited anyone to collaborate with you on it.\n",
    "\n",
    "However you can imagine that the original repository `dsondak/playground`, which you are now divorced from, has changed, and that you somehow want to pull those changes in.\n",
    "\n",
    "That's where `fetch` and `merge` come in."
   ]
  },
  {
   "cell_type": "markdown",
   "metadata": {
    "slideshow": {
     "slide_type": "subslide"
    }
   },
   "source": [
    "### `remote`\n",
    "\n",
    "We have seen so far that our repository has one \"remote\", or upstream repository, which has been identified with the word `origin`, as seen in `.git/config`. We now wish to add another remote, which we shall call `course`, which points to the original repository we forked from. We want to do this to pull in changes, in case something changed there.  This is a very useful workflow to know how to execute and understand."
   ]
  },
  {
   "cell_type": "code",
   "execution_count": null,
   "metadata": {
    "slideshow": {
     "slide_type": "subslide"
    }
   },
   "outputs": [],
   "source": [
    "%%bash\n",
    "cd /tmp/playground\n",
    "git remote add course https://github.com/dsondak/playground.git\n",
    "cat .git/config"
   ]
  },
  {
   "cell_type": "markdown",
   "metadata": {
    "slideshow": {
     "slide_type": "subslide"
    }
   },
   "source": [
    "Notice that the `master` branch only tracks the same branch on the `origin` remote.  The example in this notebook is a little silly because the `origin` and `course` remotes are the same.  It will make more sense when you do it on your own.  Your `origin` will be your `fork` of the original repo and your `course` will be the original repo.  We haven't set up any connection with the `course` remote as yet.\n",
    "\n",
    "Now let's figure out how to get changes from an upstream repository, be it our `origin` upstream that a collaborator has `push`ed to, or another `course` remote to which one of the teaching staff has posted a change."
   ]
  },
  {
   "cell_type": "markdown",
   "metadata": {
    "slideshow": {
     "slide_type": "subslide"
    }
   },
   "source": [
    "### `fetch`\n",
    "\n",
    "![git_fetch](figs/git_fetch.png)"
   ]
  },
  {
   "cell_type": "markdown",
   "metadata": {
    "slideshow": {
     "slide_type": "subslide"
    }
   },
   "source": [
    "### A Scenario\n",
    "Let's say a collaborator has pushed changes to your shared upstream repository while you were editing. Their local repository and the upstream repository now both contain their changes, but your local repository does not. To update your local repository, you run `fetch`."
   ]
  },
  {
   "cell_type": "markdown",
   "metadata": {
    "slideshow": {
     "slide_type": "fragment"
    }
   },
   "source": [
    "**Question:** What if you've committed changes in the meantime? Does your local repository contain your changes or theirs?"
   ]
  },
  {
   "cell_type": "markdown",
   "metadata": {
    "slideshow": {
     "slide_type": "fragment"
    }
   },
   "source": [
    "**Answer:** It contains a *record* of both, but they are kept separate. Remember that `git` repositories are not copies of your project files. They store all the contents of your files, along with a bunch of metadata, but in its own internal format."
   ]
  },
  {
   "cell_type": "markdown",
   "metadata": {
    "slideshow": {
     "slide_type": "subslide"
    }
   },
   "source": [
    "### A Scenario...continued\n",
    "Let's say that you and your collaborator both edited the same line of the same file at the same time in different ways. On your respective machines you both add and commit your different changes and your collaborator pushes theirs to the upstream repository before you do."
   ]
  },
  {
   "cell_type": "markdown",
   "metadata": {
    "slideshow": {
     "slide_type": "fragment"
    }
   },
   "source": [
    "When you run `fetch`, `git` adds a record of their changes to your local repository *alongside* your own.\n",
    "\n",
    "These are called *branches*, and they represent different, coexisting versions of your project. The `fetch` command adds your collaborator's branch to your local repository, but keeps yours as well."
   ]
  },
  {
   "cell_type": "code",
   "execution_count": null,
   "metadata": {
    "slideshow": {
     "slide_type": "subslide"
    }
   },
   "outputs": [],
   "source": [
    "%%bash\n",
    "cd /tmp/playground\n",
    "git fetch course"
   ]
  },
  {
   "cell_type": "markdown",
   "metadata": {
    "slideshow": {
     "slide_type": "fragment"
    }
   },
   "source": [
    "A copy of a new remote branch has been made.  To see this, provide the `-avv` argument to `git branch`."
   ]
  },
  {
   "cell_type": "code",
   "execution_count": null,
   "metadata": {
    "slideshow": {
     "slide_type": "subslide"
    }
   },
   "outputs": [],
   "source": [
    "%%bash\n",
    "cd /tmp/playground\n",
    "git branch -avv"
   ]
  },
  {
   "cell_type": "markdown",
   "metadata": {
    "slideshow": {
     "slide_type": "subslide"
    }
   },
   "source": [
    "Indeed, the way `git` works is by creating copies of remote branches locally. Then it just compares to these \"copy\" branches to see what changes have been made.\n",
    "\n",
    "Sometimes we really do want to merge the changes.  For now, we want to merge the change from `remotes/course/master`. Eventually, we'll consider a case where you want to simply create another branch yourself and do things on that branch."
   ]
  },
  {
   "cell_type": "markdown",
   "metadata": {
    "slideshow": {
     "slide_type": "subslide"
    }
   },
   "source": [
    "### `merge`\n",
    "\n",
    "![git_merge](figs/git_merge.png)"
   ]
  },
  {
   "cell_type": "markdown",
   "metadata": {
    "slideshow": {
     "slide_type": "subslide"
    }
   },
   "source": [
    "Having multiple branches is fine, but at some point you'll want to combine the changes that you've made with those made by others. This is called merging."
   ]
  },
  {
   "cell_type": "markdown",
   "metadata": {
    "slideshow": {
     "slide_type": "fragment"
    }
   },
   "source": [
    "There are two general cases when merging two branches:\n",
    "1. First, the two branches are different but the changes are in unrelated places.\n",
    "2. Second, the two branches are different and the changes are in the same locations in the same files."
   ]
  },
  {
   "cell_type": "markdown",
   "metadata": {
    "slideshow": {
     "slide_type": "subslide"
    }
   },
   "source": [
    "#### Scenario 1\n",
    "The first scenario is easy. `Git` will simply apply both sets of changes to the appropriate places and put the resulting files into the staging area for you. Then you can commit the changes and push them back to the upstream repository. Your collaborator does the same, and everyone sees everything."
   ]
  },
  {
   "cell_type": "markdown",
   "metadata": {
    "slideshow": {
     "slide_type": "subslide"
    }
   },
   "source": [
    "#### Scenario 2\n",
    "\n",
    "The second scenario is more complicated. \n",
    "\n",
    "Let's say the two changes set some variable to different values.\n",
    "\n",
    "`Git` can't know which is the correct value.\n",
    "\n",
    "One solution would be to simply use the more recent change, but this very easily leads to self-inconsistent programs.\n",
    "\n",
    "A more conservative solution, and the one `git` uses, is to simply leave the decision to the user. \n",
    "\n",
    "When `git` detects a conflict that it cannot resolve, `merge` fails, and `git` places a modified version of the offending file in your project directory. **This is important:** the file that `git` puts into your directory is not actually *either* of the originals. It is a new file that has special markings around the locations that conflicted. We shall not consider this case yet, but will return to dealing with conflicts soon."
   ]
  },
  {
   "cell_type": "code",
   "execution_count": null,
   "metadata": {
    "slideshow": {
     "slide_type": "subslide"
    }
   },
   "outputs": [],
   "source": [
    "%%bash\n",
    "cd /tmp/playground\n",
    "git merge course/master\n",
    "git status"
   ]
  },
  {
   "cell_type": "markdown",
   "metadata": {
    "slideshow": {
     "slide_type": "fragment"
    }
   },
   "source": [
    "We seem to be ahead of our upstream-tracking repository by some commits..why?"
   ]
  },
  {
   "cell_type": "code",
   "execution_count": null,
   "metadata": {
    "slideshow": {
     "slide_type": "subslide"
    }
   },
   "outputs": [],
   "source": [
    "%%bash\n",
    "cd /tmp/playground\n",
    "git log -3"
   ]
  },
  {
   "cell_type": "markdown",
   "metadata": {
    "slideshow": {
     "slide_type": "subslide"
    }
   },
   "source": [
    "If you had edited the `README.md` at the same time and committed locally, you would have been asked to resolve the conflict in the merge (the second case above).\n",
    "\n",
    "These changes are only on our local repo.  We would like to have them on our remote repo.  Let's push these changes to the `origin` now."
   ]
  },
  {
   "cell_type": "code",
   "execution_count": null,
   "metadata": {
    "slideshow": {
     "slide_type": "subslide"
    }
   },
   "outputs": [],
   "source": [
    "%%bash\n",
    "cd /tmp/playground\n",
    "git push\n",
    "git status"
   ]
  },
  {
   "cell_type": "markdown",
   "metadata": {
    "slideshow": {
     "slide_type": "subslide"
    }
   },
   "source": [
    "#### A comment on `git pull`\n",
    "You can combine a fetch and a merge together by simply doing a git `pull`. This will fail if you and your collaborator have worked on the same file (since you will have to merge by hand), but is a great shortcut when the files  worked on are different. I use it all the time on a personal level too, to shift work between two different machines, as long as I am not working on both at the same time. The usual use case is day work on a work computer, and then evening work at home on the laptop. Read the docs if you are interested.\n",
    "\n",
    "The safest thing to do is to first do the fetch followed by a merge.  This is especially useful if you're new to `git`.  It forces you to think about the steps instead of getting shocked by a `pull` that yells at you for a merge conflict."
   ]
  },
  {
   "cell_type": "markdown",
   "metadata": {
    "slideshow": {
     "slide_type": "skip"
    }
   },
   "source": [
    "## Git habits"
   ]
  },
  {
   "cell_type": "markdown",
   "metadata": {
    "slideshow": {
     "slide_type": "skip"
    }
   },
   "source": [
    "***Commit early, commit often.***\n",
    "\n",
    "Git is more effective when used at a fine granularity. For starters, you can't undo what you haven't committed, so committing lots of small changes makes it easier to find the right rollback point. Also, merging becomes a lot easier when you only have to deal with a handful of conflicts.\n",
    "\n",
    "***Commit unrelated changes separately.***\n",
    "\n",
    "Identifying the source of a bug or understanding the reason why a particular piece of code exists is much easier when commits focus on related changes. Some of this has to do with simplifying commit messages and making it easier to look through logs, but it has other related benefits: commits are smaller and simpler, and merge conflicts are confined to only the commits which actually have conflicting code.\n",
    "\n",
    "***Do not commit binaries and other temporary files.***\n",
    "\n",
    "Git is meant for tracking changes. In nearly all cases, the only meaningful difference between the contents of two binaries is that they are different. If you change source files, compile, and commit the resulting binary, git sees an entirely different file. The end result is that the git repository (which contains a complete history, remember) begins to become bloated with the history of many dissimilar binaries. Worse, there's often little advantage to keeping those files in the history. An argument can be made for periodically snapshotting working binaries, but things like object files, compiled python files, and editor auto-saves are basically wasted space.\n",
    "\n",
    "***Ignore files which should not be committed***\n",
    "\n",
    "Git comes with a built-in mechanism for ignoring certain types of files. Placing filenames or wildcards in a `.gitignore` file placed in the top-level directory (where the `.git` directory is also located) will cause git to ignore those files when checking file status. This is a good way to ensure you don't commit the wrong files accidentally, and it also makes the output of `git status` somewhat cleaner.\n",
    "\n",
    "***Always make a branch for new changes***\n",
    "\n",
    "While it's tempting to work on new code directly in the `master` branch, it's usually a good idea to create a new one instead, especially for team-based projects. The major advantage to this practice is that it keeps logically disparate change sets separate. This means that if two people are working on improvements in two different branches, when they merge, the actual workflow is reflected in the git history. Plus, explicitly creating branches adds some semantic meaning to your branch structure. Moreover, there is very little difference in how you use git.\n",
    "\n",
    "***Write good commit messages***\n",
    "\n",
    "I cannot understate the importance of this.\n",
    "\n",
    "**Seriously. Write good commit messages.**"
   ]
  },
  {
   "cell_type": "markdown",
   "metadata": {
    "slideshow": {
     "slide_type": "slide"
    }
   },
   "source": [
    "## Basic Branching"
   ]
  },
  {
   "cell_type": "markdown",
   "metadata": {
    "slideshow": {
     "slide_type": "subslide"
    }
   },
   "source": [
    "* We have encountered branches a few times so far but we haven't really said much about what they are or why they're important.  They are very important.  In fact, they form a core piece of the `git` workflow.\n",
    "\n",
    "* A `git` branch is a \"Sticky Note\" on the graph.  When you switch branches you are moving the \"Sticky Note\".\n",
    "\n",
    "* Suppose you have a newly initialized repository.  Your first commit is represented by the **A** block in the figure below. ![inital_commit](figs/initial_commit.png)\n",
    "\n",
    "A default branch is created and `git` named it `master`.  The name `master` has no special meaning to `git`."
   ]
  },
  {
   "cell_type": "markdown",
   "metadata": {
    "slideshow": {
     "slide_type": "subslide"
    }
   },
   "source": [
    "Now suppose we make a set of two commits (B and C).  The `master` branch (and our pointer) moves along. ![two_commits](figs/two_commits.png)"
   ]
  },
  {
   "cell_type": "markdown",
   "metadata": {
    "slideshow": {
     "slide_type": "subslide"
    }
   },
   "source": [
    "So far so good.  Suddenly we find a bug!  We could work on the bug in `master` but that's not really a good idea.  It would make a lot more sense to `branch` off of `master` and fix the bug on its own `branch`.  That way, we don't interfere with things on `master`.  We'll discuss the details of how to create branches in the lecture exercises.  For now, suppose we create a new branch called `bug1`.![bug1_branch](figs/bug1_branch.png)\n",
    "\n",
    "The new branch is a pointer to the same commit as the `master` branch (commit **C**) but the pointer moved from the `master` branch to the `bug1` branch."
   ]
  },
  {
   "cell_type": "markdown",
   "metadata": {
    "slideshow": {
     "slide_type": "subslide"
    }
   },
   "source": [
    "We do some work on the `bug1` branch and make two more commits.  The pointer and branch now move to commit **E**. ![bug1_commits](figs/bug1_commits.png)"
   ]
  },
  {
   "cell_type": "markdown",
   "metadata": {
    "collapsed": true,
    "slideshow": {
     "slide_type": "subslide"
    }
   },
   "source": [
    "* Now you decide that the bug you found has been fixed.\n",
    "* You've modified a file and maybe even added a new file.  \n",
    "* You can switch back to the `master` branch. ![switch_to_master](figs/switch_to_master.png)\n",
    "\n",
    "* What you'll see is that none of the files that you just fixed and/or created are in your working directory!  \n",
    "* The first couple of times you see this, it feels really uncomfortable.  \n",
    "* However, this is the correct `git` workflow: [`git` works with snapshots!](https://git-scm.com/book/en/v1/Getting-Started-Git-Basics)"
   ]
  },
  {
   "cell_type": "markdown",
   "metadata": {
    "slideshow": {
     "slide_type": "subslide"
    }
   },
   "source": [
    "* How do we get the bug fix into our `master` branch?\n",
    "\n",
    "* We already know the command.  From the `master` branch, just do `git merge bug1`.\n",
    "\n",
    "![git_merge_bug1](figs/git_merge_bug1.png)\n",
    "\n",
    "This looks really nice!  The `merge` brought the two change histories together perfectly."
   ]
  },
  {
   "cell_type": "markdown",
   "metadata": {
    "slideshow": {
     "slide_type": "subslide"
    }
   },
   "source": [
    "* The only thing left to do is to delete the `bug1` branch.  \n",
    "* We don't need it anymore and so we really don't want it floating around.  \n",
    "* To delete a branch you simply write `git branch -d bug1`.\n",
    "\n",
    "![git_delete_bug1](figs/git_delete_bug1.png)\n",
    "\n",
    "This looks like a nice clean tree now.  If only things were always this simple."
   ]
  },
  {
   "cell_type": "markdown",
   "metadata": {
    "slideshow": {
     "slide_type": "subslide"
    }
   },
   "source": [
    "## Nonlinear Histories:  Workflow Choices"
   ]
  },
  {
   "cell_type": "markdown",
   "metadata": {
    "slideshow": {
     "slide_type": "subslide"
    }
   },
   "source": [
    "Another common scenario is as follows:\n",
    "* We created our \"story branch\" off of commit **C** to address some bug (not the same bug as before!).  Call this branch `bug2`.\n",
    "* However, some changes have happened in `master` since we branched off of **C**.  For example, `bug1` has been merged into `master`.\n",
    "* We have made a couple of commits on `bug2`."
   ]
  },
  {
   "cell_type": "markdown",
   "metadata": {
    "slideshow": {
     "slide_type": "subslide"
    }
   },
   "source": [
    "Here's the current graph: \n",
    "\n",
    "![git_branch_bug2](figs/git_branch_bug2.png)"
   ]
  },
  {
   "cell_type": "markdown",
   "metadata": {
    "slideshow": {
     "slide_type": "subslide"
    }
   },
   "source": [
    "Once we're ready to merge our bug fix, we switch back to `master`. ![switch_to_master2](figs/switch_to_master2.png)"
   ]
  },
  {
   "cell_type": "markdown",
   "metadata": {
    "slideshow": {
     "slide_type": "fragment"
    }
   },
   "source": [
    "Now we attempt to merge."
   ]
  },
  {
   "cell_type": "markdown",
   "metadata": {
    "slideshow": {
     "slide_type": "subslide"
    }
   },
   "source": [
    "Our attempted merge should connect the new version **H** to both **E** and **G** (**H** came from **E** and **G**).\n",
    "![switch_to_master2](figs/switch_to_master2.png) ![git_merge_bug2](figs/git_merge_bug2.png)"
   ]
  },
  {
   "cell_type": "markdown",
   "metadata": {
    "slideshow": {
     "slide_type": "subslide"
    }
   },
   "source": [
    "Now we delete the `bug2` branch since the bug fix has been successfully merged into `master`. ![git_delete_bug2](figs/git_delete_bug2.png)\n",
    "\n",
    "* The graph is now a bit of a mess; the history is nonlinear.  \n",
    "* There's nothing particularly wrong about this.  \n",
    "* However, such a history makes it hard to see the changes independently.  \n",
    "* What if another branch came off of **G**?  You could have multiple loops!"
   ]
  },
  {
   "cell_type": "markdown",
   "metadata": {
    "slideshow": {
     "slide_type": "subslide"
    }
   },
   "source": [
    "There is another way to do merges that helps \"linearize\" the graph.  Let's pick up with our `bug2` branch just before we switched to the `master` branch for a merge. ![git_branch_bug2](figs/git_branch_bug2.png)\n",
    "\n",
    "This time, instead of starting the `merge` process right away, we'll first `rebase`."
   ]
  },
  {
   "cell_type": "markdown",
   "metadata": {
    "slideshow": {
     "slide_type": "subslide"
    }
   },
   "source": [
    "`git rebase master`. ![git_rebase_master](figs/git_rebase_master.png)\n",
    "\n",
    "What does `rebase` do?\n",
    "* Undo the changes we made off of **C**, but remember what they were\n",
    "* Re-apply those changes on **E** instead"
   ]
  },
  {
   "cell_type": "markdown",
   "metadata": {
    "slideshow": {
     "slide_type": "subslide"
    }
   },
   "source": [
    "Now we proceed as usual:\n",
    "* `git checkout master`\n",
    "* `git merge bug2`\n",
    "![git_checkout_merge_bug2](figs/git_checkout_merge_bug2.png)\n",
    "\n",
    "* Now we get a nice linear flow."
   ]
  },
  {
   "cell_type": "markdown",
   "metadata": {
    "slideshow": {
     "slide_type": "subslide"
    }
   },
   "source": [
    "#### Comments on `rebase`\n",
    "\n",
    "* The actual change set ordering in the repo mirrors what actually happened.  That is, **F'** and **G'** came after **E** rather than in parallel to it.\n",
    "* We have re-written history; this is controversial.\n",
    "\n",
    "#### Basic Rule:  Don't rebase public history\n",
    "Never rebase commits once they've been pushed to a public repository. \n",
    "\n",
    "#### Some Rough `rebase` guidelines\n",
    "Use an interactive rebase to polish a feature branch before merging it into the main code base."
   ]
  },
  {
   "cell_type": "markdown",
   "metadata": {
    "slideshow": {
     "slide_type": "subslide"
    }
   },
   "source": [
    "You will work **extensively** with branches in any real project.  In fact, branches are central to the `Git` workflow.\n",
    "\n",
    "For more details on branches in `Git` see Chapter 3 of the `Git` Book: [Git Branching - Branches in a Nutshell](https://git-scm.com/book/en/v2/Git-Branching-Branches-in-a-Nutshell)."
   ]
  },
  {
   "cell_type": "markdown",
   "metadata": {
    "slideshow": {
     "slide_type": "subslide"
    }
   },
   "source": [
    "## Branching Demo"
   ]
  },
  {
   "cell_type": "markdown",
   "metadata": {
    "slideshow": {
     "slide_type": "subslide"
    }
   },
   "source": [
    "As you might have noticed by now, everything in `Git` is a branch. We have branches on remote (upstream) repositories, copies of remote branches in our local repository, and branches on local repositories which (so far) track remote branches (or more precisely local copies of remote repositories)."
   ]
  },
  {
   "cell_type": "code",
   "execution_count": null,
   "metadata": {
    "slideshow": {
     "slide_type": "subslide"
    }
   },
   "outputs": [],
   "source": [
    "%%bash\n",
    "cd /tmp\n",
    "rm -rf cs207_david_sondak #remove if it exists\n",
    "git clone https://github.com/dsondak/cs207_david_sondak.git"
   ]
  },
  {
   "cell_type": "markdown",
   "metadata": {
    "slideshow": {
     "slide_type": "subslide"
    }
   },
   "source": [
    "Once you're in your course repo, you can look at all the branches and print out a lot of information to the screen."
   ]
  },
  {
   "cell_type": "code",
   "execution_count": null,
   "metadata": {
    "slideshow": {
     "slide_type": "fragment"
    }
   },
   "outputs": [],
   "source": [
    "%%bash\n",
    "cd /tmp/cs207_david_sondak\n",
    "git branch -avv"
   ]
  },
  {
   "cell_type": "markdown",
   "metadata": {
    "slideshow": {
     "slide_type": "fragment"
    }
   },
   "source": [
    "All of these branches are nothing but commit-streams in disguise, as can be seen above. It's a very simple model that leads to a lot of interesting version control patterns."
   ]
  },
  {
   "cell_type": "markdown",
   "metadata": {
    "slideshow": {
     "slide_type": "subslide"
    }
   },
   "source": [
    "Since branches are so light-weight, the recommended way of working on software using `git` is to create a new branch for each new feature you add, test it out, and if good, merge it into master. Then you deploy the software from `master`. We have been using branches under the hood. Let's now lift the hood."
   ]
  },
  {
   "cell_type": "markdown",
   "metadata": {
    "slideshow": {
     "slide_type": "subslide"
    }
   },
   "source": [
    "### `branch`\n",
    "\n",
    "![git_branch](figs/git_branch.png)"
   ]
  },
  {
   "cell_type": "markdown",
   "metadata": {
    "slideshow": {
     "slide_type": "subslide"
    }
   },
   "source": [
    "If you run `git branch` without having created any branches, it will list only one, called `master`. This is the default branch. You have also seen the use of `git branch -avv` to show all branches (even remote ones)."
   ]
  },
  {
   "cell_type": "markdown",
   "metadata": {
    "slideshow": {
     "slide_type": "subslide"
    }
   },
   "source": [
    "It's important to note that this new branch is not *active*. If you make changes, those changes will still apply to the `master` branch, not `branch_name`. That is, after executing the `git branch branch_name` command you're still on the `master` branch and **not** the `branch_name` branch.  To change this, you need the next command."
   ]
  },
  {
   "cell_type": "markdown",
   "metadata": {
    "slideshow": {
     "slide_type": "subslide"
    }
   },
   "source": [
    "----\n",
    "### `checkout`\n",
    "\n",
    "![git_checkout](figs/git_checkout.png)"
   ]
  },
  {
   "cell_type": "markdown",
   "metadata": {
    "slideshow": {
     "slide_type": "subslide"
    }
   },
   "source": [
    "### A note on `checkout`\n",
    "`Checkout` switches the active branch.\n",
    "\n",
    "Since branches can have different changes, `checkout` may make the working directory look very different.\n",
    "\n",
    "For instance, if you have added new files to one branch and then check another branch out, those files will no longer show up in the directory. They are still stored in the `.git` folder, but since they only exist in the other branch, they cannot be accessed until you check out the original branch."
   ]
  },
  {
   "cell_type": "code",
   "execution_count": null,
   "metadata": {
    "slideshow": {
     "slide_type": "subslide"
    }
   },
   "outputs": [],
   "source": [
    "%%bash\n",
    "cd /tmp/cs207_david_sondak\n",
    "git branch lecture4_demos"
   ]
  },
  {
   "cell_type": "markdown",
   "metadata": {
    "slideshow": {
     "slide_type": "fragment"
    }
   },
   "source": [
    "See what branches we have created."
   ]
  },
  {
   "cell_type": "code",
   "execution_count": null,
   "metadata": {
    "slideshow": {
     "slide_type": "fragment"
    }
   },
   "outputs": [],
   "source": [
    "%%bash\n",
    "cd /tmp/cs207_david_sondak\n",
    "git branch "
   ]
  },
  {
   "cell_type": "markdown",
   "metadata": {
    "slideshow": {
     "slide_type": "fragment"
    }
   },
   "source": [
    "Notice that you have created the `lecture4_demos` branch but you're still _on_ the `master` branch."
   ]
  },
  {
   "cell_type": "markdown",
   "metadata": {
    "slideshow": {
     "slide_type": "subslide"
    }
   },
   "source": [
    "Jump onto the `lecture4_demos` branch."
   ]
  },
  {
   "cell_type": "code",
   "execution_count": null,
   "metadata": {
    "slideshow": {
     "slide_type": "fragment"
    }
   },
   "outputs": [],
   "source": [
    "%%bash\n",
    "cd /tmp/cs207_david_sondak\n",
    "git checkout lecture4_demos\n",
    "git branch"
   ]
  },
  {
   "cell_type": "markdown",
   "metadata": {
    "slideshow": {
     "slide_type": "fragment"
    }
   },
   "source": [
    "Notice that it is bootstrapped off the `master` branch and has the same files.  You can check that with the `ls` command."
   ]
  },
  {
   "cell_type": "code",
   "execution_count": null,
   "metadata": {
    "scrolled": true,
    "slideshow": {
     "slide_type": "subslide"
    },
    "tags": []
   },
   "outputs": [],
   "source": [
    "%%bash\n",
    "cd /tmp/cs207_david_sondak\n",
    "ls"
   ]
  },
  {
   "cell_type": "markdown",
   "metadata": {
    "slideshow": {
     "slide_type": "fragment"
    }
   },
   "source": [
    "**Note:** You could have created this branch and switched to it all in one go by using \n",
    "\n",
    "```bash\n",
    "git checkout -b lecture4_demos\n",
    "```\n",
    "\n",
    "Now let's check the status of our repo."
   ]
  },
  {
   "cell_type": "code",
   "execution_count": null,
   "metadata": {
    "slideshow": {
     "slide_type": "subslide"
    }
   },
   "outputs": [],
   "source": [
    "%%bash\n",
    "cd /tmp/cs207_david_sondak\n",
    "git status"
   ]
  },
  {
   "cell_type": "markdown",
   "metadata": {
    "slideshow": {
     "slide_type": "fragment"
    }
   },
   "source": [
    "Alright, so we're on our new branch but we haven't added or modified anything yet; there's nothing to commit."
   ]
  },
  {
   "cell_type": "markdown",
   "metadata": {
    "slideshow": {
     "slide_type": "subslide"
    }
   },
   "source": [
    "### Adding a file on a new branch\n",
    "\n",
    "Let's add a new file.  Note that this file gets added on this branch only!\n",
    "\n",
    "Notice that I'm still using the `echo` command.  Once again, this is only because `jupyter` can't work with text editors.  If I were you, I'd use `vim`, but you can use whatever text editor you like."
   ]
  },
  {
   "cell_type": "code",
   "execution_count": null,
   "metadata": {
    "slideshow": {
     "slide_type": "subslide"
    }
   },
   "outputs": [],
   "source": [
    "%%bash\n",
    "cd /tmp/cs207_david_sondak\n",
    "echo '# Things I wish G.R.R. Martin would say:  Finally updating A Song of Ice and Fire.' > books.md\n",
    "git status"
   ]
  },
  {
   "cell_type": "markdown",
   "metadata": {
    "slideshow": {
     "slide_type": "subslide"
    }
   },
   "source": [
    "We add the file to the index, then commit the file to the local repository on the `lecture4_demos` branch."
   ]
  },
  {
   "cell_type": "code",
   "execution_count": null,
   "metadata": {
    "scrolled": true,
    "slideshow": {
     "slide_type": "fragment"
    }
   },
   "outputs": [],
   "source": [
    "%%bash\n",
    "cd /tmp/cs207_david_sondak\n",
    "git add books.md\n",
    "git status"
   ]
  },
  {
   "cell_type": "code",
   "execution_count": null,
   "metadata": {
    "slideshow": {
     "slide_type": "fragment"
    }
   },
   "outputs": [],
   "source": [
    "%%bash\n",
    "cd /tmp/cs207_david_sondak\n",
    "git commit -am \"Added another test file to demonstrate git features\" # Make sure you really understand what the `-am` option does!"
   ]
  },
  {
   "cell_type": "code",
   "execution_count": null,
   "metadata": {
    "slideshow": {
     "slide_type": "fragment"
    }
   },
   "outputs": [],
   "source": [
    "%%bash\n",
    "cd /tmp/cs207_david_sondak\n",
    "git status"
   ]
  },
  {
   "cell_type": "markdown",
   "metadata": {
    "slideshow": {
     "slide_type": "subslide"
    }
   },
   "source": [
    "At this point, we have committed a new file (`books.md`) to our new branch in our local repo.  Our remote repo is still not aware of this new file (or branch).  In fact, our `master` branch is still not really aware of this file.\n",
    "\n",
    "**Note:** There are really two options at this point:\n",
    "1. Push the current branch to our upstream repo.  This would correspond to a \"long-lived\" branch.  You may want to do this if you have a version of your code that you are maintaining.\n",
    "2. Merge the new branch into the local master branch.  Depending on your chosen workflow, this may happen _much_ more frequently than the first option.  You'll be creating branches all the time for little bug fixes and features.  You don't necessary want such branches to be \"long-lived\".  Once your feature is ready, you'll merge the feature branch into the `master` branch, `stage`, `commit`, and `push` (all on `master`).  Then you'll delete the \"short-lived\" feature branch.\n",
    "\n",
    "We'll continue with the first option for now and discuss the other option later."
   ]
  },
  {
   "cell_type": "markdown",
   "metadata": {
    "slideshow": {
     "slide_type": "subslide"
    }
   },
   "source": [
    "### Long-lived branches"
   ]
  },
  {
   "cell_type": "markdown",
   "metadata": {
    "slideshow": {
     "slide_type": "fragment"
    }
   },
   "source": [
    "Ok, we have committed. Lets try to push!"
   ]
  },
  {
   "cell_type": "code",
   "execution_count": null,
   "metadata": {
    "scrolled": true,
    "slideshow": {
     "slide_type": "subslide"
    }
   },
   "outputs": [],
   "source": [
    "%%bash\n",
    "cd /tmp/cs207_david_sondak\n",
    "git push"
   ]
  },
  {
   "cell_type": "markdown",
   "metadata": {
    "slideshow": {
     "slide_type": "subslide"
    }
   },
   "source": [
    "Fail! Why? Because `git` didn't know what to push to on `origin` (the name of our remote repo) and didn't want to assume we wanted to call the branch `lecture4_demos` on the remote. We need to tell that to `git` explicitly (just like it tells us to)."
   ]
  },
  {
   "cell_type": "code",
   "execution_count": null,
   "metadata": {
    "slideshow": {
     "slide_type": "subslide"
    }
   },
   "outputs": [],
   "source": [
    "%%bash\n",
    "cd /tmp/cs207_david_sondak\n",
    "git push --set-upstream origin lecture4_demos"
   ]
  },
  {
   "cell_type": "markdown",
   "metadata": {
    "slideshow": {
     "slide_type": "subslide"
    }
   },
   "source": [
    "Aha, now we have both a remote and a local for `lecture4_demos`.  We can use the convenient arguments to `branch` in order to see the details of all the branches."
   ]
  },
  {
   "cell_type": "code",
   "execution_count": null,
   "metadata": {
    "slideshow": {
     "slide_type": "fragment"
    }
   },
   "outputs": [],
   "source": [
    "%%bash\n",
    "cd /tmp/cs207_david_sondak\n",
    "git branch -avv"
   ]
  },
  {
   "cell_type": "markdown",
   "metadata": {
    "slideshow": {
     "slide_type": "subslide"
    }
   },
   "source": [
    "We make sure we are back on master."
   ]
  },
  {
   "cell_type": "code",
   "execution_count": null,
   "metadata": {
    "slideshow": {
     "slide_type": "fragment"
    }
   },
   "outputs": [],
   "source": [
    "%%bash\n",
    "cd /tmp/cs207_david_sondak\n",
    "git checkout master"
   ]
  },
  {
   "cell_type": "markdown",
   "metadata": {
    "slideshow": {
     "slide_type": "fragment"
    }
   },
   "source": [
    "What have we done?\n",
    "\n",
    "We created a new local branch, created a file on it, created that same branch on our remote repo, and pushed all the changes.  Finally, we went back to our `master` branch to continue work there."
   ]
  },
  {
   "cell_type": "markdown",
   "metadata": {
    "slideshow": {
     "slide_type": "skip"
    }
   },
   "source": [
    "## Git habits"
   ]
  },
  {
   "cell_type": "markdown",
   "metadata": {
    "slideshow": {
     "slide_type": "skip"
    }
   },
   "source": [
    "***Commit early, commit often.***\n",
    "\n",
    "Git is more effective when used at a fine granularity. For starters, you can't undo what you haven't committed, so committing lots of small changes makes it easier to find the right rollback point. Also, merging becomes a lot easier when you only have to deal with a handful of conflicts.\n",
    "\n",
    "***Commit unrelated changes separately.***\n",
    "\n",
    "Identifying the source of a bug or understanding the reason why a particular piece of code exists is much easier when commits focus on related changes. Some of this has to do with simplifying commit messages and making it easier to look through logs, but it has other related benefits: commits are smaller and simpler, and merge conflicts are confined to only the commits which actually have conflicting code.\n",
    "\n",
    "***Do not commit binaries and other temporary files.***\n",
    "\n",
    "Git is meant for tracking changes. In nearly all cases, the only meaningful difference between the contents of two binaries is that they are different. If you change source files, compile, and commit the resulting binary, git sees an entirely different file. The end result is that the git repository (which contains a complete history, remember) begins to become bloated with the history of many dissimilar binaries. Worse, there's often little advantage to keeping those files in the history. An argument can be made for periodically snapshotting working binaries, but things like object files, compiled python files, and editor auto-saves are basically wasted space.\n",
    "\n",
    "***Ignore files which should not be committed***\n",
    "\n",
    "Git comes with a built-in mechanism for ignoring certain types of files. Placing filenames or wildcards in a `.gitignore` file placed in the top-level directory (where the `.git` directory is also located) will cause git to ignore those files when checking file status. This is a good way to ensure you don't commit the wrong files accidentally, and it also makes the output of `git status` somewhat cleaner.\n",
    "\n",
    "***Always make a branch for new changes***\n",
    "\n",
    "While it's tempting to work on new code directly in the `master` branch, it's usually a good idea to create a new one instead, especially for team-based projects. The major advantage to this practice is that it keeps logically disparate change sets separate. This means that if two people are working on improvements in two different branches, when they merge, the actual workflow is reflected in the git history. Plus, explicitly creating branches adds some semantic meaning to your branch structure. Moreover, there is very little difference in how you use git.\n",
    "\n",
    "***Write good commit messages***\n",
    "\n",
    "I cannot understate the importance of this.\n",
    "\n",
    "**Seriously. Write good commit messages.**"
   ]
  }
 ],
 "metadata": {
  "language_info": {
   "name": "python",
   "pygments_lexer": "ipython3"
  }
 },
 "nbformat": 4,
 "nbformat_minor": 1
}
